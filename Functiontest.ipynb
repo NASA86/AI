{
 "cells": [
  {
   "cell_type": "code",
   "execution_count": null,
   "id": "011d4ef3-5606-4fdc-9096-dcb1b74164a9",
   "metadata": {},
   "outputs": [],
   "source": [
    "def oddeven():\n",
    "    "
   ]
  }
 ],
 "metadata": {
  "kernelspec": {
   "display_name": "Python 3 (ipykernel)",
   "language": "python",
   "name": "python3"
  },
  "language_info": {
   "codemirror_mode": {
    "name": "ipython",
    "version": 3
   },
   "file_extension": ".py",
   "mimetype": "text/x-python",
   "name": "python",
   "nbconvert_exporter": "python",
   "pygments_lexer": "ipython3",
   "version": "3.12.7"
  }
 },
 "nbformat": 4,
 "nbformat_minor": 5
}
