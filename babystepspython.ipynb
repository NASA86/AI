{
 "cells": [
  {
   "cell_type": "code",
   "execution_count": 1,
   "id": "a39522ae-54eb-49b1-9e43-a04ae1f97fc6",
   "metadata": {},
   "outputs": [
    {
     "name": "stdout",
     "output_type": "stream",
     "text": [
      "Welcome to Assignment-1\n"
     ]
    }
   ],
   "source": [
    "print(\"Welcome to Assignment-1\")"
   ]
  },
  {
   "cell_type": "code",
   "execution_count": 4,
   "id": "fe8dd590-8ee8-4ba7-a3b7-e56b9ab6f81b",
   "metadata": {},
   "outputs": [
    {
     "name": "stdout",
     "output_type": "stream",
     "text": [
      "Num1= 10\n",
      "Num2= 30\n",
      "add= 40\n"
     ]
    }
   ],
   "source": [
    "Num1=10\n",
    "Num2=30\n",
    "print(\"Num1=\",Num1)\n",
    "print(\"Num2=\",Num2)\n",
    "print(\"add=\",Num1+Num2)"
   ]
  },
  {
   "cell_type": "code",
   "execution_count": null,
   "id": "9761c561-c69c-428f-b98b-a5365f2ee938",
   "metadata": {},
   "outputs": [],
   "source": [
    "#Body Mass Index\n"
   ]
  },
  {
   "cell_type": "code",
   "execution_count": 14,
   "id": "96e4e578-7238-48cd-9eaf-46f474db61eb",
   "metadata": {},
   "outputs": [
    {
     "name": "stdin",
     "output_type": "stream",
     "text": [
      "Enter the BMI Index: 34\n"
     ]
    },
    {
     "name": "stdout",
     "output_type": "stream",
     "text": [
      "overweight\n"
     ]
    }
   ],
   "source": [
    "index=float(input(\"Enter the BMI Index:\"))\n",
    "if(index<18.5):\n",
    "    print(\"Underweight\")\n",
    "elif(index<24.9):\n",
    "    print(\"Normalweight\")\n",
    "else:\n",
    "    print(\"overweight\")\n",
    "           "
   ]
  },
  {
   "cell_type": "code",
   "execution_count": null,
   "id": "d4153868-b470-4b46-9c8a-bd82fa0e4630",
   "metadata": {},
   "outputs": [],
   "source": []
  }
 ],
 "metadata": {
  "kernelspec": {
   "display_name": "Python 3 (ipykernel)",
   "language": "python",
   "name": "python3"
  },
  "language_info": {
   "codemirror_mode": {
    "name": "ipython",
    "version": 3
   },
   "file_extension": ".py",
   "mimetype": "text/x-python",
   "name": "python",
   "nbconvert_exporter": "python",
   "pygments_lexer": "ipython3",
   "version": "3.12.7"
  }
 },
 "nbformat": 4,
 "nbformat_minor": 5
}
