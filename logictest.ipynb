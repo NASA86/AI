{
 "cells": [
  {
   "cell_type": "code",
   "execution_count": 6,
   "id": "92a45886-2968-4aa8-b4f2-11608290d1f6",
   "metadata": {},
   "outputs": [
    {
     "name": "stdin",
     "output_type": "stream",
     "text": [
      "Your gender: Male\n",
      "Your age: 21\n"
     ]
    },
    {
     "name": "stdout",
     "output_type": "stream",
     "text": [
      "ELIGBLE\n"
     ]
    }
   ],
   "source": [
    "gender=input(\"Your gender:\")\n",
    "age=int(input(\"Your age:\"))\n",
    "if(gender==\"Male\"):\n",
    " if(age>=21):\n",
    "    print(\"ELIGBLE\")\n",
    " else:\n",
    "    print(\"NOT ELIGBLE\")\n",
    "elif(gender==\"Female\"):\n",
    " if(age>18):\n",
    "      print(\"ELIGBLE\")\n",
    " else:\n",
    "    print(\"NOT ELIGBLE\")\n",
    "     \n",
    "\n",
    "  \n",
    "        "
   ]
  },
  {
   "cell_type": "code",
   "execution_count": 16,
   "id": "b9ee7d19-a620-428d-b59a-f94598bc648f",
   "metadata": {},
   "outputs": [
    {
     "name": "stdin",
     "output_type": "stream",
     "text": [
      "Your gender: Female\n",
      "Your age: 20\n"
     ]
    },
    {
     "name": "stdout",
     "output_type": "stream",
     "text": [
      "ELIGBLE\n"
     ]
    }
   ],
   "source": [
    "gender=input(\"Your gender:\")\n",
    "age=int(input(\"Your age:\"))\n",
    "if((gender==\"Male\") and (age>=21)):\n",
    "     print(\"ELIGBLE\")\n",
    "elif((gender==\"Female\") and (age>18)):\n",
    "      print(\"ELIGBLE\")\n",
    "else:\n",
    "    print(\"NOT ELIGBLE\")"
   ]
  },
  {
   "cell_type": "code",
   "execution_count": 20,
   "id": "0f12288a-627e-42cb-8747-7345d94807ab",
   "metadata": {},
   "outputs": [
    {
     "name": "stdin",
     "output_type": "stream",
     "text": [
      "Subject1= 98\n",
      "Subject2= 87\n",
      "Subject3= 95\n",
      "Subject4= 95\n",
      "Subject5= 93\n"
     ]
    },
    {
     "name": "stdout",
     "output_type": "stream",
     "text": [
      "Total: 468\n",
      "Precentage: 93.60000000000001\n"
     ]
    }
   ],
   "source": [
    "subject1=int(input(\"Subject1=\"))\n",
    "subject2=int(input(\"Subject2=\"))\n",
    "subject3=int(input(\"Subject3=\"))\n",
    "subject4=int(input(\"Subject4=\"))\n",
    "subject5=int(input(\"Subject5=\"))\n",
    "total=subject1+subject2+subject3+subject4+subject5\n",
    "print(\"Total:\",total)\n",
    "precentage=float((total/500))*100\n",
    "print(\"Precentage:\",precentage)\n"
   ]
  },
  {
   "cell_type": "code",
   "execution_count": 21,
   "id": "560c1ed1-fb10-4f52-ae01-31036f110335",
   "metadata": {},
   "outputs": [
    {
     "name": "stdin",
     "output_type": "stream",
     "text": [
      "Height: 32\n",
      "Breadth 34\n"
     ]
    },
    {
     "name": "stdout",
     "output_type": "stream",
     "text": [
      "Area formula: (Height*Breadth)/2\n",
      "Area of Triangle: 544.0\n"
     ]
    },
    {
     "name": "stdin",
     "output_type": "stream",
     "text": [
      "Height1: 2\n",
      "Height2: 4\n",
      "Breadth: 4\n"
     ]
    },
    {
     "name": "stdout",
     "output_type": "stream",
     "text": [
      "Perimeter formula: Height1+Height2+Breadth\n",
      "Perimeter formula: 10\n"
     ]
    }
   ],
   "source": [
    "#print area and perimeter of triangle\n",
    "height=int(input(\"Height:\"))\n",
    "breadth=int(input(\"Breadth\"))\n",
    "print(\"Area formula: (Height*Breadth)/2\")\n",
    "triangle=(height*breadth)/2\n",
    "print(\"Area of Triangle:\",triangle)\n",
    "height1=int(input(\"Height1:\"))\n",
    "height2=int(input(\"Height2:\"))\n",
    "breadth1=int(input(\"Breadth:\"))\n",
    "print(\"Perimeter formula: Height1+Height2+Breadth\")\n",
    "formula=height1+height2+breadth1\n",
    "print(\"Perimeter formula:\",formula)"
   ]
  },
  {
   "cell_type": "code",
   "execution_count": null,
   "id": "06c8a668-755c-4e63-a62a-770cccdcf355",
   "metadata": {},
   "outputs": [],
   "source": []
  }
 ],
 "metadata": {
  "kernelspec": {
   "display_name": "Python 3 (ipykernel)",
   "language": "python",
   "name": "python3"
  },
  "language_info": {
   "codemirror_mode": {
    "name": "ipython",
    "version": 3
   },
   "file_extension": ".py",
   "mimetype": "text/x-python",
   "name": "python",
   "nbconvert_exporter": "python",
   "pygments_lexer": "ipython3",
   "version": "3.12.7"
  }
 },
 "nbformat": 4,
 "nbformat_minor": 5
}
